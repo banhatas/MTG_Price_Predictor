{
 "cells": [
  {
   "cell_type": "code",
   "execution_count": 1,
   "metadata": {},
   "outputs": [],
   "source": [
    "import mtgtools\n",
    "import numpy as np\n",
    "import pandas as pd\n",
    "import pickle\n",
    "\n",
    "from mtgtools.MtgDB import MtgDB\n",
    "from requests import get\n",
    "from json import loads\n",
    "from shutil import copyfileobj\n",
    "from tqdm import tqdm\n",
    "from time import sleep"
   ]
  },
  {
   "cell_type": "code",
   "execution_count": 2,
   "metadata": {},
   "outputs": [],
   "source": [
    "# load the card names to make sure no duplicates are downloaded\n",
    "df = pd.read_pickle('card_df.pickle')\n",
    "downloaded_card_names = set(df.CardName)"
   ]
  },
  {
   "cell_type": "code",
   "execution_count": 3,
   "metadata": {},
   "outputs": [],
   "source": [
    "def download_card_images(card_list):\n",
    "    # set loop\n",
    "    loop = tqdm(total=len(card_list), position=0, leave=False)\n",
    "    cards_not_found = set()\n",
    "\n",
    "    # download images\n",
    "    for q in card_list:\n",
    "        # update the loop\n",
    "        loop.update()\n",
    "\n",
    "        # skip if it has already been downloaded\n",
    "        if q in downloaded_card_names:\n",
    "            continue\n",
    "\n",
    "        try:\n",
    "            # load the card from scryfall\n",
    "            card = loads(get(f\"https://api.scryfall.com/cards/search?q={q}\").text)\n",
    "\n",
    "            # get image url and save\n",
    "            img_url = card['data'][0]['image_uris']['normal']\n",
    "            f_name = \"cards/\" + q + \".png\"\n",
    "            with open(f_name, 'wb') as f:\n",
    "                copyfileobj(get(img_url, stream = True).raw, f)\n",
    "\n",
    "            \n",
    "            sleep(0.11)\n",
    "        except:\n",
    "            cards_not_found.add(q)\n",
    "\n",
    "    return cards_not_found"
   ]
  },
  {
   "cell_type": "code",
   "execution_count": 4,
   "metadata": {},
   "outputs": [],
   "source": [
    "# create a data base of cards\n",
    "db = MtgDB('my_db.fs')\n",
    "sf = db.root.scryfall_cards\n",
    "downloaded_cards = set()"
   ]
  },
  {
   "cell_type": "code",
   "execution_count": 5,
   "metadata": {},
   "outputs": [
    {
     "name": "stderr",
     "output_type": "stream",
     "text": [
      "                                                  \r"
     ]
    }
   ],
   "source": [
    "# get a list of card names\n",
    "sample_size = 1000\n",
    "names = np.empty(sample_size, dtype=object)\n",
    "prices = np.empty(sample_size, dtype=float)\n",
    "samples = np.random.choice(sf, size=sample_size)\n",
    "\n",
    "for i, card in enumerate(samples):\n",
    "    names[i] = card.name\n",
    "    p = card.prices['usd']\n",
    "    prices[i] = float(p) if p is not None else np.nan\n",
    "\n",
    "\n",
    "# download the cards\n",
    "not_found = download_card_images(names)\n"
   ]
  },
  {
   "cell_type": "code",
   "execution_count": 6,
   "metadata": {},
   "outputs": [],
   "source": [
    "new_df = pd.DataFrame()\n",
    "new_df = df.from_dict({\n",
    "    'CardName' : names,\n",
    "    'Price' : prices\n",
    "})\n",
    "\n",
    "# save the dataframe\n",
    "df = pd.concat([df, new_df])"
   ]
  },
  {
   "cell_type": "code",
   "execution_count": 7,
   "metadata": {},
   "outputs": [],
   "source": [
    "df.to_pickle(\"card_df.pickle\")"
   ]
  }
 ],
 "metadata": {
  "kernelspec": {
   "display_name": "Python 3",
   "language": "python",
   "name": "python3"
  },
  "language_info": {
   "codemirror_mode": {
    "name": "ipython",
    "version": 3
   },
   "file_extension": ".py",
   "mimetype": "text/x-python",
   "name": "python",
   "nbconvert_exporter": "python",
   "pygments_lexer": "ipython3",
   "version": "3.11.5"
  }
 },
 "nbformat": 4,
 "nbformat_minor": 2
}
