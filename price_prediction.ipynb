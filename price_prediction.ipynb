{
 "cells": [
  {
   "cell_type": "code",
   "execution_count": 1,
   "metadata": {},
   "outputs": [
    {
     "data": {
      "text/plain": [
       "True"
      ]
     },
     "execution_count": 1,
     "metadata": {},
     "output_type": "execute_result"
    }
   ],
   "source": [
    "import pandas as pd\n",
    "import torch\n",
    "import torch.nn as nn\n",
    "import torch.nn.functional as F\n",
    "import torch.optim as optim\n",
    "import numpy as np\n",
    "import matplotlib.pyplot as plt\n",
    "\n",
    "from tqdm import tqdm\n",
    "from PIL import Image\n",
    "\n",
    "torch.cuda.is_available()"
   ]
  },
  {
   "cell_type": "markdown",
   "metadata": {},
   "source": [
    "# Dataset Class"
   ]
  },
  {
   "cell_type": "code",
   "execution_count": 19,
   "metadata": {},
   "outputs": [],
   "source": [
    "# create a class to get the data set\n",
    "class DataSet():\n",
    "    def __init__(self, f_name='card_df.pickle', size=8000, dim=1, train_size = 0.75):\n",
    "        df = pd.read_pickle(f_name)\n",
    "\n",
    "        # remove all two-sided cards for now\n",
    "        find_two_sided = lambda st: st.find(r'//')\n",
    "        idx = np.array(df['CardName'].apply(find_two_sided) == -1)\n",
    "        tdf = df.loc[idx]\n",
    "\n",
    "        # make sure to get rid of nans\n",
    "        price_nans = tdf.isna().sum()['Price']\n",
    "        if price_nans > 0:\n",
    "            tdf['Price'] = tdf['Price'].fillna(tdf['Price'].median())\n",
    "\n",
    "        # make sure size is small enough\n",
    "        assert size <= len(tdf), f\"size must be less that {len(tdf)}; got {size}\"\n",
    "        # ensure only dim 1\n",
    "        assert dim in [1,3], \"Dimension must be 1 (flat) or 3 (RGB Channels)\"\n",
    "\n",
    "        if dim == 1:\n",
    "            # create train/test tensors of len size (normally 6000/2000)\n",
    "            TENSOR_LEN = 995520\n",
    "            df = tdf.sample(size) # shuffle the data frame\n",
    "            data = torch.empty((size, TENSOR_LEN))\n",
    "            target = torch.empty((size, 1))\n",
    "            for i in range(size):\n",
    "                row = df.iloc[i]\n",
    "                target[i] = float(row['Price'])\n",
    "                name = row['CardName']\n",
    "\n",
    "                # loop to ensure we get data\n",
    "                fail = True\n",
    "                while fail:\n",
    "                    try:\n",
    "                        card = torch.Tensor(self.get_image(name, dim=dim))\n",
    "                        fail = False\n",
    "                    except:\n",
    "                        row = tdf.sample(1)\n",
    "                        target[i] = float(row['Price'].values[0])\n",
    "                        name = row['CardName'].values[0]\n",
    "                        continue\n",
    "                \n",
    "                data[i, :] = card\n",
    "\n",
    "            # split into train/test\n",
    "            all_data = torch.hstack([data, target])\n",
    "            split_idx = int(size * train_size)\n",
    "            self.train = all_data[:split_idx]\n",
    "            self.test = all_data[split_idx:]\n",
    "\n",
    "        if dim == 3:\n",
    "            loop = tqdm(total = size, position=0, leave=False)\n",
    "            # get the shape of the image\n",
    "            c, h, w = 3, 680, 488\n",
    "            df = tdf.sample(size)\n",
    "            data = torch.empty((size, c, h, w))\n",
    "            target = torch.empty((size, 1))\n",
    "\n",
    "            # fill data\n",
    "            for i in range(size):\n",
    "                row = df.iloc[i]\n",
    "                target[i] = row['Price']\n",
    "                name = row['CardName']\n",
    "\n",
    "                # loop to ensure we get data\n",
    "                fail = True\n",
    "                while fail:\n",
    "                    try:\n",
    "                        card = torch.Tensor(self.get_image(name, dim=dim))\n",
    "                        loop.update()\n",
    "                        fail = False\n",
    "                    except:\n",
    "                        row = tdf.sample(1)\n",
    "                        target[i] = row['Price'].values[0]\n",
    "                        name = row['CardName'].values[0]\n",
    "\n",
    "                data[i, :] = card.permute(2, 0, 1)\n",
    "\n",
    "            split_idx = int(size * train_size)\n",
    "            self.X_train, self.X_test = data[:split_idx], data[split_idx:]\n",
    "            self.y_train, self.y_test = target[:split_idx], target[split_idx:]\n",
    "\n",
    "    def get_image(self, card_name, dim=1):\n",
    "        path = 'cards/' + card_name +'.png'\n",
    "        img = Image.open(path)\n",
    "        img = np.array(img)\n",
    "\n",
    "        # return the array in the requested dimensions\n",
    "        if dim == 3:\n",
    "            return img\n",
    "        elif dim == 2:\n",
    "            m,n,l = img.shape\n",
    "            return img.reshape(m*n, l)\n",
    "        elif dim == 1:\n",
    "            return img.flatten()\n",
    "        else:\n",
    "            raise ValueError(f\"dim must be 1, 2, or 3; got {dim}\")"
   ]
  },
  {
   "cell_type": "code",
   "execution_count": 24,
   "metadata": {},
   "outputs": [
    {
     "name": "stderr",
     "output_type": "stream",
     "text": [
      "/tmp/ipykernel_10152/2835197217.py:14: SettingWithCopyWarning: \n",
      "A value is trying to be set on a copy of a slice from a DataFrame.\n",
      "Try using .loc[row_indexer,col_indexer] = value instead\n",
      "\n",
      "See the caveats in the documentation: https://pandas.pydata.org/pandas-docs/stable/user_guide/indexing.html#returning-a-view-versus-a-copy\n",
      "  tdf['Price'] = tdf['Price'].fillna(tdf['Price'].median())\n",
      "                                                   \r"
     ]
    }
   ],
   "source": [
    "# load the data, get train/test\n",
    "data = DataSet(size=1000, dim=3)\n",
    "X_train, X_test, y_train, y_test = data.X_train, data.X_test, data.y_train, data.y_test"
   ]
  },
  {
   "cell_type": "markdown",
   "metadata": {},
   "source": [
    "# Set up the Model"
   ]
  },
  {
   "cell_type": "code",
   "execution_count": 25,
   "metadata": {},
   "outputs": [],
   "source": [
    "# the first model\n",
    "class Aleph(nn.Module):\n",
    "    def __init__(self):\n",
    "        super().__init__()\n",
    "        self.model = nn.Sequential(\n",
    "            nn.Linear(995520, 256),\n",
    "            nn.ReLU(),\n",
    "            nn.Linear(256, 24),\n",
    "            nn.ReLU(),\n",
    "            nn.Linear(24, 12),\n",
    "            nn.ReLU(),\n",
    "            nn.Linear(12, 6),\n",
    "            nn.ReLU(),\n",
    "            nn.Linear(6, 1)\n",
    "        )\n",
    "    \n",
    "    def forward(self, input):\n",
    "        out = self.model(input)\n",
    "        return out"
   ]
  },
  {
   "cell_type": "code",
   "execution_count": 45,
   "metadata": {},
   "outputs": [],
   "source": [
    "# the second model\n",
    "class Beit(nn.Module):\n",
    "    def __init__(self):\n",
    "        super().__init__()\n",
    "        self.model = nn.Sequential(\n",
    "            nn.Conv2d(3, 12, 50),\n",
    "            nn.ReLU(),\n",
    "            nn.MaxPool2d(2),\n",
    "            nn.Conv2d(12, 16, 2),\n",
    "            nn.ReLU(),\n",
    "            nn.MaxPool2d(2),\n",
    "            nn.Linear(109, 96),\n",
    "            nn.ReLU(),\n",
    "            nn.Linear(96, 24),\n",
    "            nn.ReLU(),\n",
    "            nn.Linear(24,1)\n",
    "        )\n",
    "    \n",
    "    def forward(self, input):\n",
    "        out = self.model(input)\n",
    "        return out"
   ]
  },
  {
   "cell_type": "code",
   "execution_count": 46,
   "metadata": {},
   "outputs": [
    {
     "name": "stdout",
     "output_type": "stream",
     "text": [
      "yay\n"
     ]
    }
   ],
   "source": [
    "model = Beit()\n",
    "if type(model) == type(Beit()):\n",
    "    print('yay')\n",
    "loss_func = nn.MSELoss()\n",
    "optimizer = optim.Adam(model.parameters(), lr=0.001)"
   ]
  },
  {
   "cell_type": "code",
   "execution_count": 47,
   "metadata": {},
   "outputs": [],
   "source": [
    "# cuda everything\n",
    "model = model.to('cuda')"
   ]
  },
  {
   "cell_type": "code",
   "execution_count": 48,
   "metadata": {},
   "outputs": [
    {
     "name": "stderr",
     "output_type": "stream",
     "text": [
      "/home/banhaty/miniconda3/envs/mtg/lib/python3.11/site-packages/torch/nn/modules/loss.py:535: UserWarning: Using a target size (torch.Size([1])) that is different to the input size (torch.Size([16, 157, 1])). This will likely lead to incorrect results due to broadcasting. Please ensure they have the same size.\n",
      "  return F.mse_loss(input, target, reduction=self.reduction)\n",
      "Loss:\t0.0612: : 13498it [05:33, 43.26it/s]                             "
     ]
    }
   ],
   "source": [
    "n_epochs = len(X_train)\n",
    "num_checks = 50\n",
    "check_every = n_epochs // num_checks\n",
    "loop = tqdm(total=n_epochs + (len(X_test) * num_checks), position=0, leave=False)\n",
    "total_found = n_epochs\n",
    "\n",
    "loss_train_list = list()\n",
    "loss_val_list = list()\n",
    "\n",
    "# training loop\n",
    "for epoch in range(n_epochs):\n",
    "    model.train()\n",
    "\n",
    "    # get the data\n",
    "    card = X_train[epoch].cuda(non_blocking=True)\n",
    "    y_truth = y_train[epoch].cuda(non_blocking=True)\n",
    "\n",
    "    # forward pass\n",
    "    y_ = model(card)\n",
    "\n",
    "    loss = loss_func(y_, y_truth)\n",
    "    loss_train_list.append(float(loss))\n",
    "\n",
    "    # back pass\n",
    "    optimizer.zero_grad()\n",
    "    loss.backward()\n",
    "\n",
    "    # update weights\n",
    "    optimizer.step()\n",
    "\n",
    "    # progress\n",
    "    loop.set_description(f\"Loss:\\t{round(loss.item(), 4)}\")\n",
    "    loop.update()\n",
    "\n",
    "    # check progress\n",
    "    if epoch % check_every == 0 or epoch == n_epochs - 1:\n",
    "        model.eval()\n",
    "        mse_list = list()\n",
    "\n",
    "        for i in range(len(X_test)):\n",
    "            card = X_test[i].cuda(non_blocking=True)\n",
    "            y_truth = y_test[i].cuda(non_blocking=True)\n",
    "\n",
    "            # prediction\n",
    "            pred = model(card)\n",
    "\n",
    "            # get loss\n",
    "            mse = float(loss_func(pred, y_truth))\n",
    "            mse_list.append(mse)\n",
    "            loop.update()\n",
    "\n",
    "        loss_val_list.append(np.mean(mse_list))\n"
   ]
  },
  {
   "cell_type": "code",
   "execution_count": 49,
   "metadata": {},
   "outputs": [
    {
     "data": {
      "image/png": "[encoded data removed]",
      "text/plain": [
       "<Figure size 640x480 with 1 Axes>"
      ]
     },
     "metadata": {},
     "output_type": "display_data"
    },
    {
     "name": "stderr",
     "output_type": "stream",
     "text": [
      "Loss:\t0.0612: : 13500it [05:48, 43.26it/s]"
     ]
    }
   ],
   "source": [
    "plt.style.use(\"dark_background\")\n",
    "tx = np.linspace(0, n_epochs, len(loss_train_list))\n",
    "vx = np.linspace(0, n_epochs  , len(loss_val_list))\n",
    "plt.semilogy(tx, loss_train_list, label='Train Loss')\n",
    "plt.semilogy(vx, loss_val_list, label='Validation Loss')\n",
    "plt.xlabel(\"Epoch\")\n",
    "plt.ylabel(\"MSE\")\n",
    "plt.legend()\n",
    "plt.show()"
   ]
  },
  {
   "cell_type": "code",
   "execution_count": null,
   "metadata": {},
   "outputs": [],
   "source": []
  }
 ],
 "metadata": {
  "kernelspec": {
   "display_name": "mtg",
   "language": "python",
   "name": "python3"
  },
  "language_info": {
   "codemirror_mode": {
    "name": "ipython",
    "version": 3
   },
   "file_extension": ".py",
   "mimetype": "text/x-python",
   "name": "python",
   "nbconvert_exporter": "python",
   "pygments_lexer": "ipython3",
   "version": "3.11.5"
  }
 },
 "nbformat": 4,
 "nbformat_minor": 2
}
